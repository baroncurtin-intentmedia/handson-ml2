{
 "cells": [
  {
   "cell_type": "markdown",
   "metadata": {
    "collapsed": true,
    "pycharm": {
     "name": "#%% md\n"
    }
   },
   "source": [
    "# Chapter 1 - The Machine Learning Landscape\n",
    "This chapter primarily introduces a lot of the fundamental concepts and jargon that everyone practicing ML should know."
   ]
  },
  {
   "cell_type": "markdown",
   "source": [
    "## 1.1 What is Machine Learning\n",
    "\n",
    "- Machine Learning is the science (and art) of programming computers so they can *learn from data*\n",
    "- The set of data that a machine learning system uses to learn from is called the *training set*"
   ],
   "metadata": {
    "collapsed": false,
    "pycharm": {
     "name": "#%% md\n"
    }
   }
  },
  {
   "cell_type": "markdown",
   "source": [
    "## 1.2 Why Use Machine Learning\n",
    "\n",
    "- It is great for problems for which existing solutions require a lot of fine-tuning or long lists of rules\n",
    "    - Often, a ML algorithm can simplify code and perform better than the traditional approach\n",
    "- ML techniques can possibly find a solution for complex problems for which using a traditional approach doesn't yield\n",
    "a good solution\n",
    "- ML systems can easily adapt to new data from fluctuating environments\n",
    "- Getting insights about complex problems and large amounts of data\n",
    "    - Applying ML techniques to dig into large amounts of data can help discover patterns that were not immediately apparent\n",
    "    is called *data mining*"
   ],
   "metadata": {
    "collapsed": false,
    "pycharm": {
     "name": "#%% md\n"
    }
   }
  },
  {
   "cell_type": "markdown",
   "source": [
    "## 1.3 Examples of Applications\n",
    "- *Image Classification* is the analysis of images in an attempt to automatically identify them as particular objects/shapes/etc.\n",
    "    - Typically performed using convolutional neural networks (CNN)\n",
    "- *Semantic Segmentation* is the analysis of an image where each pixel is classified\n",
    "    - Typically performed using convolutional neural networks\n",
    "    - Used to determine the exact location and shape of tumors\n",
    "- *Text Classification*\n",
    "    - Automatically flagging offensive comments on discussion forums\n",
    "    - Is a part of Natural Language Processing (NLP)\n",
    "- *Text Summarization*\n",
    "    - Automatically summarizing long documents\n",
    "    - Also NLP\n",
    "- *Chatbot*\n",
    "    - Involves NLP components including understanding and question-answering modules\n",
    "- *Regression*\n",
    "    - Forecasting company revenue next year based on performance metrics\n",
    "    - Can be performed using Linear Regression, Polynomial Regression, Support Vector Machine (SVM), Random Forest,\n",
    "    Neural Network\n",
    "- *Speech Recognition*\n",
    "    - Audio samples are processed for speech recognition\n",
    "    - Typically uses Recurrent Neural Networks (RNNs), CNN, or transformers\n",
    "- *Anomaly Detection*\n",
    "    - Detecting fraud\n",
    "- *Clustering*\n",
    "    - Segmenting clients based on their purchases so that you can design a different marketing strategy for each segment\n",
    "- *Dimensionality Reduction*\n",
    "- *Recommender Systems*\n",
    "    - Usually done with the use of Neural Networks\n",
    "- *AI Bots for Games*\n",
    "    - Usually done through reinforcement learning (RL)"
   ],
   "metadata": {
    "collapsed": false,
    "pycharm": {
     "name": "#%% md\n"
    }
   }
  },
  {
   "cell_type": "markdown",
   "source": [
    "## 1.4 Types of Machine Learning Systems\n",
    "\n",
    "- Machine Learning systems can be broadly classified into these broad categories:\n",
    "    - Whether or not they are training with human supervision (supervised, unsupervised, semisupervised, and reinforcement learning)\n",
    "    - Whether or not they can learn incrementally on the fly\n",
    "    - Whether they work by simply comparing new data points to known data points or instead by detecting patterns in the training data\n",
    "    and building a predictive models (instance-based versus model-based learning)\n",
    "    \n",
    "### 1.4.1 Supervised/Unsupervised Learning\n",
    "\n",
    "- There are 4 major categories (how they learn):\n",
    "    - Supervised learning\n",
    "    - Unsupervised learning\n",
    "    - Semisupervised learning\n",
    "    - Reinforcement learning\n",
    "    \n",
    "#### 1.4.1.1 Supervised Learning\n",
    "\n",
    "- In *supervised learning*, the training set you feed to the algorithm includes the desired solutions called *labels*\n",
    "- A typical supervised learning task is *classification*\n",
    "- Another typical task is to predict *target* numeric values given a set of *features* called *predictors* called *regression*\n",
    "- An *attribute* is a data type\n",
    "- A *feature* generally means an attribute with its value\n",
    "\n",
    "#### 1.4.1.2 Unsupervised Learning\n",
    "\n",
    "- In *unsupervised learning* the training data in unlabeled\n",
    "- The system will try to learn without any intervention\n",
    "- Some important unsupervised learning tasks include:\n",
    "    - Dimensionality reduction\n",
    "    - Anomaly detection\n",
    "    - Novelty detection\n",
    "    - Association rule learning\n",
    "    \n",
    "#### 1.4.1.3 Semisupervised Learning\n",
    "\n",
    "- This type of learning system deals with data where the data is only partially labelled\n",
    "- Most semisupervised learning algorithms are combinations of unsupervised and supervised algorithms\n",
    "\n",
    "#### 1.4.1.4 Reinforcement Learning\n",
    "\n",
    "- This system involves an *agent* that can observe the \"environment\", select and perform actions, and get *rewards* in return\n",
    "    - These rewards can be positive or negative (penalties)\n",
    "- The system then learns by itself what the best strategy is, called a *policy*, where it maximizes the reward over time\n",
    "\n",
    "### 1.4.2 Batch and Online Learning\n",
    "\n",
    "#### 1.4.2.1 Batch Learning\n",
    "\n",
    "- In *batch learning*, the system is incapable of learning incrementally meaning it must be trained using all the available data\n",
    "- The system is training, and then it is launched into production and runs without learning anymore; it just applies what\n",
    "it has learned called *offline learning*\n",
    "    - If you want a batch learning system to know about new data, yuo need to train a new version of the system from scratch\n",
    "    on the full dataset and replace the old one with the new one\n",
    "    \n",
    "#### 1.4.2.2 Online Learning\n",
    "\n",
    "- In *online learning*, you train the system incrementally by feeding it data instances sequentially, either individually \n",
    "or in small groups called *mini-batches*\n",
    "- *Online learning* is great for system that need to adapt to change rapidly\n",
    "- *Online learning* can also be used to training systems on huge datasets that cannot fit in one machine's main memory \n",
    "(called *out-of-core* learning)\n",
    "- An important parameter of online learning systems is how fast they should adapt to changing data: this is called the \n",
    "*learning rate*\n",
    "    - High learning rates mean the system will rapidly adapt to new data but will also quickly forget what it has learned\n",
    "    - Low learning rates mean the system will remember longer but also adapt to new data more slowly\n",
    "\n",
    "### 1.4.3 Instance-Based Versus Model-Based Learning\n",
    "\n",
    "- One more way to categorize ML systems is by how they *generalize*\n",
    "    - How well does the system adapt to new (unseen) data?\n",
    "- Two main approaches to generalization:\n",
    "    - Instance-based learning\n",
    "    - Model-based learning\n",
    "    \n",
    "#### 1.4.3.1 Instance-Based Learning\n",
    "  \n",
    "    "
   ],
   "metadata": {
    "collapsed": false,
    "pycharm": {
     "name": "#%% md\n"
    }
   }
  },
  {
   "cell_type": "markdown",
   "source": [],
   "metadata": {
    "collapsed": false,
    "pycharm": {
     "name": "#%% md"
    }
   }
  }
 ],
 "metadata": {
  "kernelspec": {
   "display_name": "Python 3",
   "language": "python",
   "name": "python3"
  },
  "language_info": {
   "codemirror_mode": {
    "name": "ipython",
    "version": 2
   },
   "file_extension": ".py",
   "mimetype": "text/x-python",
   "name": "python",
   "nbconvert_exporter": "python",
   "pygments_lexer": "ipython2",
   "version": "2.7.6"
  },
  "pycharm": {
   "stem_cell": {
    "cell_type": "raw",
    "source": [],
    "metadata": {
     "collapsed": false
    }
   }
  }
 },
 "nbformat": 4,
 "nbformat_minor": 0
}