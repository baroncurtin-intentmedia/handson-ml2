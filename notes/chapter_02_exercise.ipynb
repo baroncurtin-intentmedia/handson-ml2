{
 "cells": [
  {
   "cell_type": "code",
   "execution_count": null,
   "metadata": {
    "collapsed": true
   },
   "outputs": [],
   "source": [
    "# imports\n",
    "import pandas as pd\n",
    "import numpy as np\n",
    "from sklearn.linear_model import LinearRegression\n",
    "from sklearn.model_selection import train_test_split\n",
    "from sklearn.preprocessing import StandardScaler, OneHotEncoder\n",
    "from sklearn.model_selection import StratifiedShuffleSplit\n",
    "from sklearn.impute import SimpleImputer\n",
    "from sklearn.pipeline import Pipeline\n",
    "from sklearn.compose import ColumnTransformer\n",
    "from sklearn.metrics import mean_squared_error"
   ]
  },
  {
   "cell_type": "code",
   "execution_count": null,
   "outputs": [],
   "source": [
    "# load boston housing dataset\n",
    "from sklearn.datasets import load_boston\n",
    "\n",
    "boston = load_boston()\n",
    "print(boston)"
   ],
   "metadata": {
    "collapsed": false,
    "pycharm": {
     "name": "#%%\n"
    }
   }
  },
  {
   "cell_type": "code",
   "execution_count": null,
   "outputs": [],
   "source": [
    "# transform boston np array to pd dataframe\n",
    "# boston.data = the data in matrix form\n",
    "# boston.feature_names = the column names\n",
    "# boston.target = the target variable / price of the houses\n",
    "\n",
    "X = pd.DataFrame(, columns=)\n",
    "y = pd.DataFrame()"
   ],
   "metadata": {
    "collapsed": false,
    "pycharm": {
     "name": "#%%\n"
    }
   }
  },
  {
   "cell_type": "code",
   "execution_count": null,
   "outputs": [],
   "source": [
    "# exploratory analysis\n",
    "# get statistics from the data set, count, mean, std, etc\n",
    "\n",
    "\n",
    "# come up with other exploratory analysis (doesn't have to be plots)\n"
   ],
   "metadata": {
    "collapsed": false,
    "pycharm": {
     "name": "#%%\n"
    }
   }
  },
  {
   "cell_type": "code",
   "execution_count": null,
   "outputs": [],
   "source": [
    "numeric_features = X.select_dtypes(include=np.number)\n",
    "categorical_features = X.select_dtypes(include='object')\n"
   ],
   "metadata": {
    "collapsed": false,
    "pycharm": {
     "name": "#%%\n"
    }
   }
  },
  {
   "cell_type": "code",
   "execution_count": null,
   "outputs": [],
   "source": [
    "# data cleaning steps\n",
    "# can create a pipeline to do numerical features\n",
    "\n",
    "numerical_pipline = Pipeline([\n",
    "    # imputer with median as strategy\n",
    "    ('imputer',),\n",
    "    # standard scaler\n",
    "    ('scaler',)\n",
    "])\n",
    "\n",
    "# create full pipeline\n",
    "full_pipeline = ColumnTransformer([\n",
    "    # numerical features pipeline\n",
    "    ('num', ,),\n",
    "    # one hot encoder for cat features\n",
    "    ('cat', ,)\n",
    "])\n",
    "\n",
    "# transform columns\n",
    "X_transformed = full_pipeline.fit_transform()\n"
   ],
   "metadata": {
    "collapsed": false,
    "pycharm": {
     "name": "#%%\n"
    }
   }
  },
  {
   "cell_type": "code",
   "execution_count": null,
   "outputs": [],
   "source": [
    "# split the data set 80/20 split random state 7\n",
    "X_train, X_test, y_train, y_test = train_test_split(, , test_size=, random_state=7)\n",
    "\n",
    "# split the training set into training and validation set 85/15 split\n",
    "X_train, X_val, y_train, y_val = train_test_split(, , test_size=, random_state=7)\n"
   ],
   "metadata": {
    "collapsed": false,
    "pycharm": {
     "name": "#%%\n"
    }
   }
  },
  {
   "cell_type": "code",
   "execution_count": null,
   "outputs": [],
   "source": [
    "# initialize the linear regression model\n",
    "lr = \n",
    "lr.fit()\n",
    "\n",
    "# print coefficients for each column\n",
    "lr.coef_\n",
    "\n",
    "# get score for linear model, use validation set\n",
    "lr.score()\n",
    "\n",
    "# make predictions using test data\n",
    "y_hat = lr.predict()\n",
    "print(y_hat)"
   ],
   "metadata": {
    "collapsed": false,
    "pycharm": {
     "name": "#%%\n"
    }
   }
  },
  {
   "cell_type": "code",
   "execution_count": null,
   "outputs": [],
   "source": [
    "# check mean squared error of predictions\n",
    "print(mean_squared_error(, y_hat))"
   ],
   "metadata": {
    "collapsed": false,
    "pycharm": {
     "name": "#%%\n"
    }
   }
  }
 ],
 "metadata": {
  "kernelspec": {
   "display_name": "Python 3",
   "language": "python",
   "name": "python3"
  },
  "language_info": {
   "codemirror_mode": {
    "name": "ipython",
    "version": 2
   },
   "file_extension": ".py",
   "mimetype": "text/x-python",
   "name": "python",
   "nbconvert_exporter": "python",
   "pygments_lexer": "ipython2",
   "version": "2.7.6"
  },
  "pycharm": {
   "stem_cell": {
    "cell_type": "raw",
    "source": [],
    "metadata": {
     "collapsed": false
    }
   }
  }
 },
 "nbformat": 4,
 "nbformat_minor": 0
}